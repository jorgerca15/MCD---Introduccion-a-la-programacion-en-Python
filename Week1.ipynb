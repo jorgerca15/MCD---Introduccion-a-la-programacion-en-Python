{
 "cells": [
  {
   "cell_type": "markdown",
   "metadata": {},
   "source": [
    "## Listas"
   ]
  },
  {
   "cell_type": "markdown",
   "metadata": {},
   "source": [
    "### Tema 1: Definicion de listas y acceso a sus elementos"
   ]
  },
  {
   "cell_type": "markdown",
   "metadata": {},
   "source": [
    "- Una lista guarda una secuencia de elementos\n",
    "- Un elemento en cada casillero\n",
    "- Cada casillero puede guardar un distinto tipo de elemento\n",
    "- Listas son mutables: podemos cambiarlos cuando necesitamos\n",
    "- Pueden crecer segun necesidades del programa mediante append e insert\n",
    "- Elementos puedes ser eliminados mediante remove y pop\n",
    "\n",
    "Imaginemos que queremos guardar la temperatura de la semana:"
   ]
  },
  {
   "cell_type": "code",
   "execution_count": 3,
   "metadata": {},
   "outputs": [
    {
     "name": "stdout",
     "output_type": "stream",
     "text": [
      "30.5\n",
      "[31.0, 19.9]\n"
     ]
    }
   ],
   "source": [
    "temp = [30.5,19.8,12.3,31.0,19.9,34.4,25.3]\n",
    "print(temp[0])\n",
    "print(temp[3:5])"
   ]
  },
  {
   "cell_type": "markdown",
   "metadata": {},
   "source": [
    "Las listas se pueden modificar:"
   ]
  },
  {
   "cell_type": "code",
   "execution_count": 4,
   "metadata": {},
   "outputs": [
    {
     "name": "stdout",
     "output_type": "stream",
     "text": [
      "[30.5, 19.8, 22.3, 31.0, 19.9, 34.4, 25.3]\n"
     ]
    }
   ],
   "source": [
    "temp[2] = 22.3\n",
    "print(temp)"
   ]
  },
  {
   "cell_type": "markdown",
   "metadata": {},
   "source": [
    "### Tema 2: Como recorrer una lista"
   ]
  },
  {
   "cell_type": "code",
   "execution_count": 5,
   "metadata": {},
   "outputs": [
    {
     "name": "stdout",
     "output_type": "stream",
     "text": [
      "7\n"
     ]
    }
   ],
   "source": [
    "print(len(temp))"
   ]
  },
  {
   "cell_type": "markdown",
   "metadata": {},
   "source": [
    "Recorrer una lisat con la funcion for range: Modo 1"
   ]
  },
  {
   "cell_type": "code",
   "execution_count": 7,
   "metadata": {},
   "outputs": [
    {
     "name": "stdout",
     "output_type": "stream",
     "text": [
      "30.5\n",
      "19.8\n",
      "22.3\n",
      "31.0\n",
      "19.9\n",
      "34.4\n",
      "25.3\n"
     ]
    }
   ],
   "source": [
    "for i in range(len(temp)):\n",
    "    print(temp[i])"
   ]
  },
  {
   "cell_type": "markdown",
   "metadata": {},
   "source": [
    "Recorrer una lisat con la funcion for range: Modo 2"
   ]
  },
  {
   "cell_type": "code",
   "execution_count": 9,
   "metadata": {},
   "outputs": [
    {
     "name": "stdout",
     "output_type": "stream",
     "text": [
      "30.5\n",
      "19.8\n",
      "22.3\n",
      "31.0\n",
      "19.9\n",
      "34.4\n",
      "25.3\n"
     ]
    }
   ],
   "source": [
    "for elem in temp:\n",
    "    print(elem)"
   ]
  },
  {
   "cell_type": "markdown",
   "metadata": {},
   "source": [
    "### Tema 3: Como agregar elementos a una lista"
   ]
  },
  {
   "cell_type": "code",
   "execution_count": 16,
   "metadata": {},
   "outputs": [
    {
     "name": "stdout",
     "output_type": "stream",
     "text": [
      "[30.5, 19.8, 22.3, 31.0, 19.9, 16.5, 12.5, 12.5, 34.4, 25.3, 18.3, 25.6, 27.0, 21.3]\n"
     ]
    }
   ],
   "source": [
    "# Metodos\n",
    "\n",
    "#Siempre inserta el elemento al final de la lista\n",
    "temp.append(21.3) \n",
    "\n",
    "# Para colocar el elemento en la posición deseadaÑ\n",
    "temp.insert(5,16.5)\n",
    "\n",
    "print(temp)"
   ]
  },
  {
   "cell_type": "code",
   "execution_count": 19,
   "metadata": {},
   "outputs": [
    {
     "name": "stdout",
     "output_type": "stream",
     "text": [
      "[30.5, 19.8, 22.3, 31.0, 19.9, 16.5, 12.5, 12.5, 34.4, 25.3, 25.6, 27.0, 27.0, 21.3]\n",
      "14\n"
     ]
    }
   ],
   "source": [
    "temp[10] = 25.6\n",
    "temp[11] = 27.0\n",
    "print(temp)\n",
    "\n",
    "print(len(temp))\n"
   ]
  },
  {
   "cell_type": "markdown",
   "metadata": {},
   "source": [
    "### Tema 4: Eliminar elementos de una lista"
   ]
  },
  {
   "cell_type": "code",
   "execution_count": 22,
   "metadata": {},
   "outputs": [
    {
     "ename": "ValueError",
     "evalue": "list.remove(x): x not in list",
     "output_type": "error",
     "traceback": [
      "\u001b[1;31m---------------------------------------------------------------------------\u001b[0m",
      "\u001b[1;31mValueError\u001b[0m                                Traceback (most recent call last)",
      "Cell \u001b[1;32mIn[22], line 2\u001b[0m\n\u001b[0;32m      1\u001b[0m \u001b[38;5;66;03m# Metodo remove\u001b[39;00m\n\u001b[1;32m----> 2\u001b[0m \u001b[43mtemp\u001b[49m\u001b[38;5;241;43m.\u001b[39;49m\u001b[43mremove\u001b[49m\u001b[43m(\u001b[49m\u001b[38;5;241;43m12.5\u001b[39;49m\u001b[43m)\u001b[49m\n\u001b[0;32m      4\u001b[0m \u001b[38;5;66;03m# Verificamos el nro de elementos\u001b[39;00m\n\u001b[0;32m      5\u001b[0m \u001b[38;5;28mprint\u001b[39m(temp)\n",
      "\u001b[1;31mValueError\u001b[0m: list.remove(x): x not in list"
     ]
    }
   ],
   "source": [
    "# Metodo remove\n",
    "temp.remove(12.5)"
   ]
  },
  {
   "cell_type": "code",
   "execution_count": 24,
   "metadata": {},
   "outputs": [],
   "source": [
    "# Metodo pop: Elimina segun la posicion y retorna el valor del elemento que elimina.\n",
    "\n",
    "elem = temp.pop(4) # Asignamos una variable elem"
   ]
  },
  {
   "cell_type": "code",
   "execution_count": 25,
   "metadata": {},
   "outputs": [
    {
     "name": "stdout",
     "output_type": "stream",
     "text": [
      "[30.5, 19.8, 22.3, 31.0, 16.5, 34.4, 25.3, 25.6, 27.0, 27.0, 21.3]\n",
      "11\n"
     ]
    }
   ],
   "source": [
    "# Verificamos el nro de elementos\n",
    "print(temp)\n",
    "print(len(temp))"
   ]
  },
  {
   "cell_type": "markdown",
   "metadata": {},
   "source": [
    "### Tema 5: Metodos adicionales de listas"
   ]
  },
  {
   "cell_type": "code",
   "execution_count": 28,
   "metadata": {},
   "outputs": [
    {
     "name": "stdout",
     "output_type": "stream",
     "text": [
      "Mi\n"
     ]
    }
   ],
   "source": [
    "# Metodo index:\n",
    "\n",
    "temp = [30.5, 19.8, 22.3, 31.0, 16.5, 34.4, 25.3]\n",
    "dias = ['Lu','Ma','Mi','Ju','Vi','Sa','Do'] # Creamos la lista dias\n",
    "# print(dias)\n",
    "temperatura = 22.3\n",
    "\n",
    "if temperatura in temp:\n",
    "    ind = temp.index(temperatura)\n",
    "    print(dias[ind])"
   ]
  },
  {
   "cell_type": "markdown",
   "metadata": {},
   "source": []
  }
 ],
 "metadata": {
  "kernelspec": {
   "display_name": "Python 3",
   "language": "python",
   "name": "python3"
  },
  "language_info": {
   "codemirror_mode": {
    "name": "ipython",
    "version": 3
   },
   "file_extension": ".py",
   "mimetype": "text/x-python",
   "name": "python",
   "nbconvert_exporter": "python",
   "pygments_lexer": "ipython3",
   "version": "3.12.5"
  }
 },
 "nbformat": 4,
 "nbformat_minor": 2
}
